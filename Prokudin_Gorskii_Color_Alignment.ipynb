{
  "cells": [
    {
      "cell_type": "markdown",
      "metadata": {
        "id": "view-in-github",
        "colab_type": "text"
      },
      "source": [
        "<a href=\"https://colab.research.google.com/github/MehmedBucket03/CSC467Module4/blob/main/Prokudin_Gorskii_Color_Alignment.ipynb\" target=\"_parent\"><img src=\"https://colab.research.google.com/assets/colab-badge.svg\" alt=\"Open In Colab\"/></a>"
      ]
    },
    {
      "cell_type": "markdown",
      "metadata": {
        "id": "HqyuqV_7jt6h"
      },
      "source": [
        "# 🖼️ Prokudin-Gorskii: Color from Grayscale Photographs\n",
        "\n",
        "This notebook recreates color photographs from grayscale glass plate negatives taken by **Sergei Mikhailovich Prokudin-Gorskii** in the early 1900s. Each photo was captured in three exposures using **red**, **green**, and **blue** filters. We align these channels and stack them to recover the original color image.\n",
        "\n",
        "---"
      ],
      "id": "HqyuqV_7jt6h"
    },
    {
      "cell_type": "markdown",
      "metadata": {
        "id": "lqtQgV0Yjt6j"
      },
      "source": [
        "## 📁 Step 1: Download and Extract Dataset\n",
        "\n",
        "Prokudin-Gorskii's scanned images are hosted by Berkeley’s CS194-26 course. We download the zip file and extract the images. Each image is a vertical triptych — the top third is the blue filter image, the middle is green, and the bottom is red."
      ],
      "id": "lqtQgV0Yjt6j"
    },
    {
      "cell_type": "code",
      "execution_count": 7,
      "metadata": {
        "colab": {
          "base_uri": "https://localhost:8080/",
          "height": 90
        },
        "id": "6o2F9yvXjt6k",
        "outputId": "e5a9231a-8acb-4e9f-d1d4-f534263fc737"
      },
      "outputs": [
        {
          "output_type": "display_data",
          "data": {
            "text/plain": [
              "<IPython.core.display.HTML object>"
            ],
            "text/html": [
              "\n",
              "     <input type=\"file\" id=\"files-6ffc11ee-1c77-4ae6-8688-a03af22f0c57\" name=\"files[]\" multiple disabled\n",
              "        style=\"border:none\" />\n",
              "     <output id=\"result-6ffc11ee-1c77-4ae6-8688-a03af22f0c57\">\n",
              "      Upload widget is only available when the cell has been executed in the\n",
              "      current browser session. Please rerun this cell to enable.\n",
              "      </output>\n",
              "      <script>// Copyright 2017 Google LLC\n",
              "//\n",
              "// Licensed under the Apache License, Version 2.0 (the \"License\");\n",
              "// you may not use this file except in compliance with the License.\n",
              "// You may obtain a copy of the License at\n",
              "//\n",
              "//      http://www.apache.org/licenses/LICENSE-2.0\n",
              "//\n",
              "// Unless required by applicable law or agreed to in writing, software\n",
              "// distributed under the License is distributed on an \"AS IS\" BASIS,\n",
              "// WITHOUT WARRANTIES OR CONDITIONS OF ANY KIND, either express or implied.\n",
              "// See the License for the specific language governing permissions and\n",
              "// limitations under the License.\n",
              "\n",
              "/**\n",
              " * @fileoverview Helpers for google.colab Python module.\n",
              " */\n",
              "(function(scope) {\n",
              "function span(text, styleAttributes = {}) {\n",
              "  const element = document.createElement('span');\n",
              "  element.textContent = text;\n",
              "  for (const key of Object.keys(styleAttributes)) {\n",
              "    element.style[key] = styleAttributes[key];\n",
              "  }\n",
              "  return element;\n",
              "}\n",
              "\n",
              "// Max number of bytes which will be uploaded at a time.\n",
              "const MAX_PAYLOAD_SIZE = 100 * 1024;\n",
              "\n",
              "function _uploadFiles(inputId, outputId) {\n",
              "  const steps = uploadFilesStep(inputId, outputId);\n",
              "  const outputElement = document.getElementById(outputId);\n",
              "  // Cache steps on the outputElement to make it available for the next call\n",
              "  // to uploadFilesContinue from Python.\n",
              "  outputElement.steps = steps;\n",
              "\n",
              "  return _uploadFilesContinue(outputId);\n",
              "}\n",
              "\n",
              "// This is roughly an async generator (not supported in the browser yet),\n",
              "// where there are multiple asynchronous steps and the Python side is going\n",
              "// to poll for completion of each step.\n",
              "// This uses a Promise to block the python side on completion of each step,\n",
              "// then passes the result of the previous step as the input to the next step.\n",
              "function _uploadFilesContinue(outputId) {\n",
              "  const outputElement = document.getElementById(outputId);\n",
              "  const steps = outputElement.steps;\n",
              "\n",
              "  const next = steps.next(outputElement.lastPromiseValue);\n",
              "  return Promise.resolve(next.value.promise).then((value) => {\n",
              "    // Cache the last promise value to make it available to the next\n",
              "    // step of the generator.\n",
              "    outputElement.lastPromiseValue = value;\n",
              "    return next.value.response;\n",
              "  });\n",
              "}\n",
              "\n",
              "/**\n",
              " * Generator function which is called between each async step of the upload\n",
              " * process.\n",
              " * @param {string} inputId Element ID of the input file picker element.\n",
              " * @param {string} outputId Element ID of the output display.\n",
              " * @return {!Iterable<!Object>} Iterable of next steps.\n",
              " */\n",
              "function* uploadFilesStep(inputId, outputId) {\n",
              "  const inputElement = document.getElementById(inputId);\n",
              "  inputElement.disabled = false;\n",
              "\n",
              "  const outputElement = document.getElementById(outputId);\n",
              "  outputElement.innerHTML = '';\n",
              "\n",
              "  const pickedPromise = new Promise((resolve) => {\n",
              "    inputElement.addEventListener('change', (e) => {\n",
              "      resolve(e.target.files);\n",
              "    });\n",
              "  });\n",
              "\n",
              "  const cancel = document.createElement('button');\n",
              "  inputElement.parentElement.appendChild(cancel);\n",
              "  cancel.textContent = 'Cancel upload';\n",
              "  const cancelPromise = new Promise((resolve) => {\n",
              "    cancel.onclick = () => {\n",
              "      resolve(null);\n",
              "    };\n",
              "  });\n",
              "\n",
              "  // Wait for the user to pick the files.\n",
              "  const files = yield {\n",
              "    promise: Promise.race([pickedPromise, cancelPromise]),\n",
              "    response: {\n",
              "      action: 'starting',\n",
              "    }\n",
              "  };\n",
              "\n",
              "  cancel.remove();\n",
              "\n",
              "  // Disable the input element since further picks are not allowed.\n",
              "  inputElement.disabled = true;\n",
              "\n",
              "  if (!files) {\n",
              "    return {\n",
              "      response: {\n",
              "        action: 'complete',\n",
              "      }\n",
              "    };\n",
              "  }\n",
              "\n",
              "  for (const file of files) {\n",
              "    const li = document.createElement('li');\n",
              "    li.append(span(file.name, {fontWeight: 'bold'}));\n",
              "    li.append(span(\n",
              "        `(${file.type || 'n/a'}) - ${file.size} bytes, ` +\n",
              "        `last modified: ${\n",
              "            file.lastModifiedDate ? file.lastModifiedDate.toLocaleDateString() :\n",
              "                                    'n/a'} - `));\n",
              "    const percent = span('0% done');\n",
              "    li.appendChild(percent);\n",
              "\n",
              "    outputElement.appendChild(li);\n",
              "\n",
              "    const fileDataPromise = new Promise((resolve) => {\n",
              "      const reader = new FileReader();\n",
              "      reader.onload = (e) => {\n",
              "        resolve(e.target.result);\n",
              "      };\n",
              "      reader.readAsArrayBuffer(file);\n",
              "    });\n",
              "    // Wait for the data to be ready.\n",
              "    let fileData = yield {\n",
              "      promise: fileDataPromise,\n",
              "      response: {\n",
              "        action: 'continue',\n",
              "      }\n",
              "    };\n",
              "\n",
              "    // Use a chunked sending to avoid message size limits. See b/62115660.\n",
              "    let position = 0;\n",
              "    do {\n",
              "      const length = Math.min(fileData.byteLength - position, MAX_PAYLOAD_SIZE);\n",
              "      const chunk = new Uint8Array(fileData, position, length);\n",
              "      position += length;\n",
              "\n",
              "      const base64 = btoa(String.fromCharCode.apply(null, chunk));\n",
              "      yield {\n",
              "        response: {\n",
              "          action: 'append',\n",
              "          file: file.name,\n",
              "          data: base64,\n",
              "        },\n",
              "      };\n",
              "\n",
              "      let percentDone = fileData.byteLength === 0 ?\n",
              "          100 :\n",
              "          Math.round((position / fileData.byteLength) * 100);\n",
              "      percent.textContent = `${percentDone}% done`;\n",
              "\n",
              "    } while (position < fileData.byteLength);\n",
              "  }\n",
              "\n",
              "  // All done.\n",
              "  yield {\n",
              "    response: {\n",
              "      action: 'complete',\n",
              "    }\n",
              "  };\n",
              "}\n",
              "\n",
              "scope.google = scope.google || {};\n",
              "scope.google.colab = scope.google.colab || {};\n",
              "scope.google.colab._files = {\n",
              "  _uploadFiles,\n",
              "  _uploadFilesContinue,\n",
              "};\n",
              "})(self);\n",
              "</script> "
            ]
          },
          "metadata": {}
        },
        {
          "output_type": "stream",
          "name": "stdout",
          "text": [
            "Saving prokudin-gorskii.zip to prokudin-gorskii.zip\n"
          ]
        }
      ],
      "source": [
        "from google.colab import files\n",
        "\n",
        "# 👇 This opens a file picker dialog\n",
        "uploaded = files.upload()\n"
      ],
      "id": "6o2F9yvXjt6k"
    },
    {
      "cell_type": "code",
      "source": [
        "import zipfile\n",
        "import os\n",
        "\n",
        "# Get the uploaded filename dynamically\n",
        "zip_path = next(iter(uploaded))  # gets 'prokudin-gorskii.zip'\n",
        "extract_path = '/content/data/prokudin-gorskii'\n",
        "\n",
        "# Extract ZIP\n",
        "with zipfile.ZipFile(zip_path, 'r') as zip_ref:\n",
        "    zip_ref.extractall(extract_path)\n",
        "\n",
        "# List extracted images\n",
        "image_list = os.listdir(extract_path)\n",
        "print(\"🖼️ Images available:\")\n",
        "for file in image_list:\n",
        "    print(\" -\", file)\n"
      ],
      "metadata": {
        "colab": {
          "base_uri": "https://localhost:8080/"
        },
        "id": "6G5D6d2A-ljc",
        "outputId": "5c32503b-cd11-4378-d8f8-4861d61e4db9"
      },
      "id": "6G5D6d2A-ljc",
      "execution_count": 8,
      "outputs": [
        {
          "output_type": "stream",
          "name": "stdout",
          "text": [
            "🖼️ Images available:\n",
            " - __MACOSX\n",
            " - prokudin-gorskii\n"
          ]
        }
      ]
    },
    {
      "cell_type": "markdown",
      "metadata": {
        "id": "gd43ixgajt6l"
      },
      "source": [
        "## ✅ Task 1: Combine the Triptych Channels\n",
        "\n",
        "Each triptych is split into three parts vertically: **Blue (top)**, **Green (middle)**, **Red (bottom)**. We split and stack them into a 3D image using NumPy so we can visualize a color image. This initial image will look misaligned — that's expected."
      ],
      "id": "gd43ixgajt6l"
    },
    {
      "cell_type": "code",
      "execution_count": 13,
      "metadata": {
        "colab": {
          "base_uri": "https://localhost:8080/",
          "height": 373
        },
        "id": "SMTd-fu8jt6m",
        "outputId": "014cdd96-9b62-4e93-8477-fc02891b2708"
      },
      "outputs": [
        {
          "output_type": "error",
          "ename": "FileNotFoundError",
          "evalue": "[Errno 2] No such file or directory: '/content/data/prokudin-gorskii/00125v.jpg'",
          "traceback": [
            "\u001b[0;31m---------------------------------------------------------------------------\u001b[0m",
            "\u001b[0;31mFileNotFoundError\u001b[0m                         Traceback (most recent call last)",
            "\u001b[0;32m<ipython-input-13-ce4efa27d114>\u001b[0m in \u001b[0;36m<cell line: 0>\u001b[0;34m()\u001b[0m\n\u001b[1;32m      4\u001b[0m \u001b[0;31m# ✅ Choose an image from the extracted folder\u001b[0m\u001b[0;34m\u001b[0m\u001b[0;34m\u001b[0m\u001b[0m\n\u001b[1;32m      5\u001b[0m \u001b[0mimage_path\u001b[0m \u001b[0;34m=\u001b[0m \u001b[0;34m\"/content/data/prokudin-gorskii/00125v.jpg\"\u001b[0m\u001b[0;34m\u001b[0m\u001b[0;34m\u001b[0m\u001b[0m\n\u001b[0;32m----> 6\u001b[0;31m \u001b[0mimage\u001b[0m \u001b[0;34m=\u001b[0m \u001b[0mplt\u001b[0m\u001b[0;34m.\u001b[0m\u001b[0mimread\u001b[0m\u001b[0;34m(\u001b[0m\u001b[0mimage_path\u001b[0m\u001b[0;34m)\u001b[0m\u001b[0;34m\u001b[0m\u001b[0;34m\u001b[0m\u001b[0m\n\u001b[0m\u001b[1;32m      7\u001b[0m \u001b[0;34m\u001b[0m\u001b[0m\n\u001b[1;32m      8\u001b[0m \u001b[0;31m# 🔧 Function to split and stack grayscale into RGB\u001b[0m\u001b[0;34m\u001b[0m\u001b[0;34m\u001b[0m\u001b[0m\n",
            "\u001b[0;32m/usr/local/lib/python3.11/dist-packages/matplotlib/pyplot.py\u001b[0m in \u001b[0;36mimread\u001b[0;34m(fname, format)\u001b[0m\n\u001b[1;32m   2611\u001b[0m         \u001b[0mfname\u001b[0m\u001b[0;34m:\u001b[0m \u001b[0mstr\u001b[0m \u001b[0;34m|\u001b[0m \u001b[0mpathlib\u001b[0m\u001b[0;34m.\u001b[0m\u001b[0mPath\u001b[0m \u001b[0;34m|\u001b[0m \u001b[0mBinaryIO\u001b[0m\u001b[0;34m,\u001b[0m \u001b[0mformat\u001b[0m\u001b[0;34m:\u001b[0m \u001b[0mstr\u001b[0m \u001b[0;34m|\u001b[0m \u001b[0;32mNone\u001b[0m \u001b[0;34m=\u001b[0m \u001b[0;32mNone\u001b[0m\u001b[0;34m\u001b[0m\u001b[0;34m\u001b[0m\u001b[0m\n\u001b[1;32m   2612\u001b[0m ) -> np.ndarray:\n\u001b[0;32m-> 2613\u001b[0;31m     \u001b[0;32mreturn\u001b[0m \u001b[0mmatplotlib\u001b[0m\u001b[0;34m.\u001b[0m\u001b[0mimage\u001b[0m\u001b[0;34m.\u001b[0m\u001b[0mimread\u001b[0m\u001b[0;34m(\u001b[0m\u001b[0mfname\u001b[0m\u001b[0;34m,\u001b[0m \u001b[0mformat\u001b[0m\u001b[0;34m)\u001b[0m\u001b[0;34m\u001b[0m\u001b[0;34m\u001b[0m\u001b[0m\n\u001b[0m\u001b[1;32m   2614\u001b[0m \u001b[0;34m\u001b[0m\u001b[0m\n\u001b[1;32m   2615\u001b[0m \u001b[0;34m\u001b[0m\u001b[0m\n",
            "\u001b[0;32m/usr/local/lib/python3.11/dist-packages/matplotlib/image.py\u001b[0m in \u001b[0;36mimread\u001b[0;34m(fname, format)\u001b[0m\n\u001b[1;32m   1500\u001b[0m             \u001b[0;34m\"``np.array(PIL.Image.open(urllib.request.urlopen(url)))``.\"\u001b[0m\u001b[0;34m\u001b[0m\u001b[0;34m\u001b[0m\u001b[0m\n\u001b[1;32m   1501\u001b[0m             )\n\u001b[0;32m-> 1502\u001b[0;31m     \u001b[0;32mwith\u001b[0m \u001b[0mimg_open\u001b[0m\u001b[0;34m(\u001b[0m\u001b[0mfname\u001b[0m\u001b[0;34m)\u001b[0m \u001b[0;32mas\u001b[0m \u001b[0mimage\u001b[0m\u001b[0;34m:\u001b[0m\u001b[0;34m\u001b[0m\u001b[0;34m\u001b[0m\u001b[0m\n\u001b[0m\u001b[1;32m   1503\u001b[0m         return (_pil_png_to_float_array(image)\n\u001b[1;32m   1504\u001b[0m                 \u001b[0;32mif\u001b[0m \u001b[0misinstance\u001b[0m\u001b[0;34m(\u001b[0m\u001b[0mimage\u001b[0m\u001b[0;34m,\u001b[0m \u001b[0mPIL\u001b[0m\u001b[0;34m.\u001b[0m\u001b[0mPngImagePlugin\u001b[0m\u001b[0;34m.\u001b[0m\u001b[0mPngImageFile\u001b[0m\u001b[0;34m)\u001b[0m \u001b[0;32melse\u001b[0m\u001b[0;34m\u001b[0m\u001b[0;34m\u001b[0m\u001b[0m\n",
            "\u001b[0;32m/usr/local/lib/python3.11/dist-packages/PIL/Image.py\u001b[0m in \u001b[0;36mopen\u001b[0;34m(fp, mode, formats)\u001b[0m\n\u001b[1;32m   3463\u001b[0m \u001b[0;34m\u001b[0m\u001b[0m\n\u001b[1;32m   3464\u001b[0m     \u001b[0;32mif\u001b[0m \u001b[0mfilename\u001b[0m\u001b[0;34m:\u001b[0m\u001b[0;34m\u001b[0m\u001b[0;34m\u001b[0m\u001b[0m\n\u001b[0;32m-> 3465\u001b[0;31m         \u001b[0mfp\u001b[0m \u001b[0;34m=\u001b[0m \u001b[0mbuiltins\u001b[0m\u001b[0;34m.\u001b[0m\u001b[0mopen\u001b[0m\u001b[0;34m(\u001b[0m\u001b[0mfilename\u001b[0m\u001b[0;34m,\u001b[0m \u001b[0;34m\"rb\"\u001b[0m\u001b[0;34m)\u001b[0m\u001b[0;34m\u001b[0m\u001b[0;34m\u001b[0m\u001b[0m\n\u001b[0m\u001b[1;32m   3466\u001b[0m         \u001b[0mexclusive_fp\u001b[0m \u001b[0;34m=\u001b[0m \u001b[0;32mTrue\u001b[0m\u001b[0;34m\u001b[0m\u001b[0;34m\u001b[0m\u001b[0m\n\u001b[1;32m   3467\u001b[0m     \u001b[0;32melse\u001b[0m\u001b[0;34m:\u001b[0m\u001b[0;34m\u001b[0m\u001b[0;34m\u001b[0m\u001b[0m\n",
            "\u001b[0;31mFileNotFoundError\u001b[0m: [Errno 2] No such file or directory: '/content/data/prokudin-gorskii/00125v.jpg'"
          ]
        }
      ],
      "source": [
        "import numpy as np\n",
        "import matplotlib.pyplot as plt\n",
        "\n",
        "# ✅ Choose an image from the extracted folder\n",
        "image_path = \"/content/data/prokudin-gorskii/00125v.jpg\"\n",
        "image = plt.imread(image_path)\n",
        "\n",
        "# 🔧 Function to split and stack grayscale into RGB\n",
        "def split_triptych(image):\n",
        "    h = image.shape[0] // 3\n",
        "    b = image[0:h]\n",
        "    g = image[h:2*h]\n",
        "    r = image[2*h:3*h]\n",
        "    color_image = np.stack((r, g, b), axis=-1)\n",
        "    return color_image\n",
        "\n",
        "# 🖼️ Run and display\n",
        "color_image = split_triptych(image)\n",
        "plt.imsave(\"01_unaligned_color.jpg\", color_image)\n",
        "plt.imshow(color_image)\n",
        "plt.title(\"Task 1: Unaligned Color Image (R, G, B stacked)\")\n",
        "plt.axis(\"off\")\n",
        "plt.show()\n"
      ],
      "id": "SMTd-fu8jt6m"
    },
    {
      "cell_type": "markdown",
      "metadata": {
        "id": "HkeKKLxUjt6m"
      },
      "source": [
        "## 🧠 Task 2: Alignment\n",
        "\n",
        "Due to camera movement between exposures, the color channels are misaligned. We fix this by finding the **optimal (x, y) offset** for the Green and Blue channels to align them with the Red channel.\n",
        "\n",
        "- **2a:** We compute **Normalized Cross-Correlation (NCC)** to compare alignment.\n",
        "- **2b:** We test a second method: simple **dot product**.\n",
        "- **2c:** We apply both alignment methods and compare results."
      ],
      "id": "HkeKKLxUjt6m"
    },
    {
      "cell_type": "code",
      "execution_count": null,
      "metadata": {
        "id": "oxflOPIXjt6m"
      },
      "outputs": [],
      "source": [
        "# 📏 Similarity metric: Normalized Cross-Correlation\n",
        "def normalized_cross_correlation(img1, img2):\n",
        "    img1_norm = (img1 - np.mean(img1)) / np.linalg.norm(img1)\n",
        "    img2_norm = (img2 - np.mean(img2)) / np.linalg.norm(img2)\n",
        "    return np.sum(img1_norm * img2_norm)\n",
        "\n",
        "# 🪜 Brute-force offset search\n",
        "def best_offset(reference, target, max_offset=15, metric=normalized_cross_correlation):\n",
        "    best_score = -np.inf\n",
        "    best_shift = (0, 0)\n",
        "    for dx in range(-max_offset, max_offset + 1):\n",
        "        for dy in range(-max_offset, max_offset + 1):\n",
        "            shifted = np.roll(target, shift=(dx, dy), axis=(0, 1))\n",
        "            ref_crop = reference[15:-15, 15:-15]\n",
        "            shifted_crop = shifted[15:-15, 15:-15]\n",
        "            score = metric(ref_crop, shifted_crop)\n",
        "            if score > best_score:\n",
        "                best_score = score\n",
        "                best_shift = (dx, dy)\n",
        "    return best_shift\n",
        "\n",
        "# 🧠 Align both G and B to R\n",
        "def align_and_combine(image, metric=normalized_cross_correlation):\n",
        "    h = image.shape[0] // 3\n",
        "    b = image[0:h]\n",
        "    g = image[h:2*h]\n",
        "    r = image[2*h:3*h]\n",
        "\n",
        "    g_offset = best_offset(r, g, metric=metric)\n",
        "    b_offset = best_offset(r, b, metric=metric)\n",
        "\n",
        "    g_aligned = np.roll(g, g_offset, axis=(0, 1))\n",
        "    b_aligned = np.roll(b, b_offset, axis=(0, 1))\n",
        "    aligned_image = np.stack((r, g_aligned, b_aligned), axis=-1)\n",
        "\n",
        "    return aligned_image, g_offset, b_offset\n",
        "\n",
        "# Run alignment\n",
        "aligned_image, g_offset, b_offset = align_and_combine(image)\n",
        "\n",
        "# Show result\n",
        "plt.imsave(\"02_aligned_color.jpg\", aligned_image)\n",
        "plt.imshow(aligned_image)\n",
        "plt.title(f\"Task 2: Aligned Color Image\\nG Offset: {g_offset}, B Offset: {b_offset}\")\n",
        "plt.axis(\"off\")\n",
        "plt.show()\n"
      ],
      "id": "oxflOPIXjt6m"
    },
    {
      "cell_type": "markdown",
      "metadata": {
        "id": "6cQRi_Nkjt6n"
      },
      "source": [
        "## 🔁 Task 3: Pyramid Alignment\n",
        "\n",
        "When offsets are large (e.g. high-res images), exhaustive search is expensive. To speed things up, we:\n",
        "- Downscale the image progressively (pyramid)\n",
        "- Estimate alignment at low resolution\n",
        "- Refine at higher levels\n",
        "\n",
        "This improves runtime **drastically** while maintaining accuracy."
      ],
      "id": "6cQRi_Nkjt6n"
    },
    {
      "cell_type": "code",
      "execution_count": null,
      "metadata": {
        "id": "EwqXoPaGjt6o"
      },
      "outputs": [],
      "source": [
        "import cv2\n",
        "\n",
        "# 🧱 Multi-resolution alignment\n",
        "def pyramid_align(image, levels=3, metric=normalized_cross_correlation):\n",
        "    h = image.shape[0] // 3\n",
        "    b = image[0:h]\n",
        "    g = image[h:2*h]\n",
        "    r = image[2*h:3*h]\n",
        "\n",
        "    def recursive_align(ref, tgt, level):\n",
        "        if level == 0:\n",
        "            return best_offset(ref, tgt, 10, metric)\n",
        "\n",
        "        ref_small = cv2.resize(ref, (ref.shape[1] // 4, ref.shape[0] // 4))\n",
        "        tgt_small = cv2.resize(tgt, (tgt.shape[1] // 4, tgt.shape[0] // 4))\n",
        "        small_offset = recursive_align(ref_small, tgt_small, level - 1)\n",
        "        scaled_offset = (small_offset[0]*4, small_offset[1]*4)\n",
        "\n",
        "        tgt_shifted = np.roll(tgt, scaled_offset, axis=(0, 1))\n",
        "        fine_offset = best_offset(ref, tgt_shifted, 10, metric)\n",
        "        return (scaled_offset[0] + fine_offset[0], scaled_offset[1] + fine_offset[1])\n",
        "\n",
        "    g_offset = recursive_align(r, g, levels)\n",
        "    b_offset = recursive_align(r, b, levels)\n",
        "\n",
        "    g_aligned = np.roll(g, g_offset, axis=(0, 1))\n",
        "    b_aligned = np.roll(b, b_offset, axis=(0, 1))\n",
        "    final_image = np.stack((r, g_aligned, b_aligned), axis=-1)\n",
        "\n",
        "    return final_image, g_offset, b_offset\n",
        "\n",
        "# Run pyramid alignment\n",
        "pyramid_image, g_pyr_offset, b_pyr_offset = pyramid_align(image)\n",
        "\n",
        "# Show result\n",
        "plt.imsave(\"03_pyramid_aligned.jpg\", pyramid_image)\n",
        "plt.imshow(pyramid_image)\n",
        "plt.title(f\"Task 3: Pyramid Aligned Image\\nG Offset: {g_pyr_offset}, B Offset: {b_pyr_offset}\")\n",
        "plt.axis(\"off\")\n",
        "plt.show()\n"
      ],
      "id": "EwqXoPaGjt6o"
    },
    {
      "cell_type": "code",
      "execution_count": null,
      "metadata": {
        "id": "sDPpf_vpjt6o"
      },
      "outputs": [],
      "source": [
        "aligned_pyr, g_off_pyr, b_off_pyr = pyramid_align(img)\n",
        "plt.imshow(aligned_pyr)\n",
        "plt.title(f\"Pyramid Aligned | G:{g_off_pyr} B:{b_off_pyr}\")\n",
        "plt.axis('off')\n",
        "plt.show()"
      ],
      "id": "sDPpf_vpjt6o"
    }
  ],
  "metadata": {
    "kernelspec": {
      "display_name": "Python 3",
      "language": "python",
      "name": "python3"
    },
    "language_info": {
      "name": "python",
      "version": ""
    },
    "colab": {
      "provenance": [],
      "include_colab_link": true
    }
  },
  "nbformat": 4,
  "nbformat_minor": 5
}